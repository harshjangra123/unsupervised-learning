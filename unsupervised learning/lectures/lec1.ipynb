{
 "cells": [
  {
   "cell_type": "code",
   "execution_count": 1,
   "metadata": {},
   "outputs": [],
   "source": [
    "import numpy as np\n",
    "import matplotlib.pyplot as plt"
   ]
  },
  {
   "cell_type": "code",
   "execution_count": 2,
   "metadata": {},
   "outputs": [],
   "source": [
    "# data points\n",
    "points = np.array ([[185,72],[170,56],[168,60],[179,68],[182,72],[188,77],[180,71],[180,70],[183,84],[180,88],[180,67]])\n",
    "initial_centers = np.array([[185,72],[170,56]])"
   ]
  },
  {
   "cell_type": "code",
   "execution_count": 4,
   "metadata": {},
   "outputs": [],
   "source": [
    "def euclidean_distance(points,centers):\n",
    "    cluster = []\n",
    "    for point in points:\n",
    "        distance = [euclidean_distance(point,center) for center in centers]\n",
    "        cluster = np.ardmin(distance)\n",
    "        cluster.append(cluster)\n",
    "    \n",
    "    return cluster\n"
   ]
  },
  {
   "cell_type": "code",
   "execution_count": 5,
   "metadata": {},
   "outputs": [],
   "source": [
    "def update_centers(points,clusters,k):\n",
    "    new_centers = []\n",
    "    for i in range(k):\n",
    "        cluster_point = points[np.array(clusters) == 1]\n",
    "        if len(cluster_point) > 0:\n",
    "            new_center = cluster_point.mean(axis = 0)\n",
    "        else:\n",
    "            new_center = initial_centers[i]\n",
    "\n",
    "        new_centers.append(new_center)\n",
    "    return np.array(new_centers)"
   ]
  },
  {
   "cell_type": "code",
   "execution_count": null,
   "metadata": {},
   "outputs": [],
   "source": []
  }
 ],
 "metadata": {
  "kernelspec": {
   "display_name": "Python 3",
   "language": "python",
   "name": "python3"
  },
  "language_info": {
   "codemirror_mode": {
    "name": "ipython",
    "version": 3
   },
   "file_extension": ".py",
   "mimetype": "text/x-python",
   "name": "python",
   "nbconvert_exporter": "python",
   "pygments_lexer": "ipython3",
   "version": "3.12.1"
  }
 },
 "nbformat": 4,
 "nbformat_minor": 2
}
